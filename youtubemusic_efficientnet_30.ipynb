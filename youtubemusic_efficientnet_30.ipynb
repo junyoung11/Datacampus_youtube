{
  "cells": [
    {
      "cell_type": "markdown",
      "metadata": {
        "id": "view-in-github",
        "colab_type": "text"
      },
      "source": [
        "<a href=\"https://colab.research.google.com/github/junyoung11/junyoung11/blob/main/youtubemusic_efficientnet_30.ipynb\" target=\"_parent\"><img src=\"https://colab.research.google.com/assets/colab-badge.svg\" alt=\"Open In Colab\"/></a>"
      ]
    },
    {
      "cell_type": "markdown",
      "source": [
        "**drive 연동**"
      ],
      "metadata": {
        "id": "RYgyQijlcFET"
      }
    },
    {
      "cell_type": "code",
      "source": [
        "from google.colab import drive\n",
        "drive.mount('/content/drive')"
      ],
      "metadata": {
        "colab": {
          "base_uri": "https://localhost:8080/"
        },
        "id": "pNgJdKs3YVRw",
        "outputId": "fad616d6-2639-472e-9738-8bc89be2bc05"
      },
      "execution_count": null,
      "outputs": [
        {
          "output_type": "stream",
          "name": "stdout",
          "text": [
            "Drive already mounted at /content/drive; to attempt to forcibly remount, call drive.mount(\"/content/drive\", force_remount=True).\n"
          ]
        }
      ]
    },
    {
      "cell_type": "markdown",
      "source": [
        "**압축풀기**"
      ],
      "metadata": {
        "id": "EQQe5F1xcA2j"
      }
    },
    {
      "cell_type": "code",
      "source": [
        "path_to_zip_file = '/content/drive/MyDrive/array.zip'\n",
        "directory_to_extract_to = '/content/array_file'\n",
        "\n",
        "import zipfile\n",
        "with zipfile.ZipFile(path_to_zip_file, 'r') as zip_ref:\n",
        "    zip_ref.extractall(directory_to_extract_to)\n",
        "\n"
      ],
      "metadata": {
        "id": "h9-7MJ8VYrmf"
      },
      "execution_count": null,
      "outputs": []
    },
    {
      "cell_type": "markdown",
      "source": [
        "**efficientnet 모델**"
      ],
      "metadata": {
        "id": "7E8HkyAYcMJH"
      }
    },
    {
      "cell_type": "code",
      "source": [
        "import numpy as np\n",
        "import matplotlib.pyplot as plt\n",
        "import pandas as pd\n",
        "import os \n",
        "\n",
        "df= pd.DataFrame()\n",
        "df['file'] = os.listdir('/content/array_file/array') # 현재 위치의 array 폴더 안의 모든 파일 이름 가져오기\n",
        "df['tag'] = df['file'].map(lambda x: x[0]) # 파일 이름의 첫글자가 tag\n",
        "\n",
        "\n",
        "from sklearn.model_selection import train_test_split\n",
        "\n",
        "X_train, X_val, y_train, y_val = train_test_split(\n",
        "                                        df['file'].astype('str'), \n",
        "                                        pd.get_dummies(df['tag']).astype('int32'), \n",
        "                                        test_size=0.2, \n",
        "                                        shuffle=True, \n",
        "                                        stratify=df['tag']\n",
        "                                    )\n",
        "\n",
        "def data_generator(X, y):\n",
        "    def gen():\n",
        "        file_ids = X\n",
        "        labels = y.to_numpy()\n",
        "        #reidx = random.sample(list(range(len(y))), k=len(y))\n",
        "        #song_ids = song_ids[reidx]\n",
        "        #y = y[reidx]\n",
        "        for file_id, label in zip(file_ids, labels):\n",
        "            pth=f\"/content/array_file/array/{file_id}\" \n",
        "            m = np.load(pth).astype('float32')\n",
        "            mel = m.reshape(40, 3000, 1)\n",
        "            yield mel, label\n",
        "              \n",
        "            '''\n",
        "            if m.shape[1] < 1876: # zero padding\n",
        "                pad_len = 1876 - mel.shape[1]\n",
        "                pad = np.zeros((48, pad_len))\n",
        "                m = np.concatenate([m, pad], axis=1) \n",
        "            yield np.expand_dims(m, axis=2), label\n",
        "            '''\n",
        "    return gen\n",
        "\n",
        "import tensorflow as tf\n",
        "DATA_SHAPE = (40, 3000, 1)\n",
        "ds_train = tf.data.Dataset.from_generator(\n",
        "    data_generator(X_train, y_train), \n",
        "    output_signature=(\n",
        "        tf.TensorSpec(shape=DATA_SHAPE, dtype='float32'),\n",
        "        tf.TensorSpec(shape=(8), dtype='int32')\n",
        "     )\n",
        ")\n",
        "ds_val = tf.data.Dataset.from_generator(\n",
        "    data_generator(X_val, y_val), \n",
        "    output_signature=(\n",
        "        tf.TensorSpec(shape=DATA_SHAPE, dtype='float32'),\n",
        "        tf.TensorSpec(shape=(8), dtype='int32')\n",
        "     )\n",
        ")\n",
        "\n",
        "AUTOTUNE = tf.data.experimental.AUTOTUNE\n",
        "ds_train = (\n",
        "    ds_train\n",
        "    .batch(16)\n",
        "    #.cache()\n",
        "    .prefetch(buffer_size=AUTOTUNE)\n",
        ")\n",
        "\n",
        "ds_val = (\n",
        "    ds_val\n",
        "    .batch(16)\n",
        "    #.cache()\n",
        "    .prefetch(buffer_size=AUTOTUNE)\n",
        ")\n",
        "\n",
        "from keras.models import Sequential\n",
        "from tensorflow.keras.layers import Dense, Dropout\n",
        "\n",
        "\n",
        "efficientnet = tf.keras.applications.efficientnet.EfficientNetB0(\n",
        "    include_top=False,\n",
        "    weights=None,\n",
        "    #classes=8,\n",
        "    pooling='avg',\n",
        "    input_shape=DATA_SHAPE)\n",
        "\n",
        "model_eff = Sequential([\n",
        "    efficientnet,\n",
        "    Dropout(0.5),\n",
        "    Dense(8, activation='softmax', kernel_initializer=tf.keras.initializers.HeNormal())])\n",
        "\n",
        "model_eff.compile(optimizer = 'adam', loss = 'categorical_crossentropy', metrics = ['accuracy'])\n",
        "\n",
        "early = tf.keras.callbacks.EarlyStopping(patience=3, restore_best_weights=True)\n",
        "model_eff.fit(ds_train, validation_data=ds_val, epochs=15, callbacks=[early])\n",
        "\n",
        "model_eff.save_weights('/content/drive/MyDrive/youtube_music/youtube_30')\n",
        "\n",
        "#model = model_eff.load_weights('/content/drive/MyDrive/youtube_music')"
      ],
      "metadata": {
        "colab": {
          "base_uri": "https://localhost:8080/"
        },
        "id": "5z3WVlZhYT8Y",
        "outputId": "a08f0887-51f2-405c-d887-edd1275b1a54"
      },
      "execution_count": null,
      "outputs": [
        {
          "output_type": "stream",
          "name": "stdout",
          "text": [
            "Epoch 1/15\n",
            "1200/1200 [==============================] - 554s 443ms/step - loss: 1.2693 - accuracy: 0.5349 - val_loss: 1.2241 - val_accuracy: 0.5931\n",
            "Epoch 2/15\n",
            "1200/1200 [==============================] - 533s 444ms/step - loss: 0.9158 - accuracy: 0.6687 - val_loss: 0.8241 - val_accuracy: 0.6958\n",
            "Epoch 3/15\n",
            "1200/1200 [==============================] - 533s 444ms/step - loss: 0.8025 - accuracy: 0.7090 - val_loss: 0.8568 - val_accuracy: 0.6846\n",
            "Epoch 4/15\n",
            "1200/1200 [==============================] - 534s 445ms/step - loss: 0.7192 - accuracy: 0.7416 - val_loss: 0.7881 - val_accuracy: 0.7150\n",
            "Epoch 5/15\n",
            "1200/1200 [==============================] - 533s 444ms/step - loss: 0.6443 - accuracy: 0.7666 - val_loss: 0.7959 - val_accuracy: 0.7204\n",
            "Epoch 6/15\n",
            "1200/1200 [==============================] - 532s 444ms/step - loss: 0.5823 - accuracy: 0.7907 - val_loss: 0.8607 - val_accuracy: 0.6979\n",
            "Epoch 7/15\n",
            "1200/1200 [==============================] - 531s 442ms/step - loss: 0.5237 - accuracy: 0.8106 - val_loss: 0.9279 - val_accuracy: 0.6892\n"
          ]
        }
      ]
    },
    {
      "cell_type": "markdown",
      "source": [
        "**데이터프레임 저장**"
      ],
      "metadata": {
        "id": "OLXWr44PJ4W5"
      }
    },
    {
      "cell_type": "code",
      "source": [
        "import pandas as pd\n",
        "df.to_csv(\"/content/drive/MyDrive/youtube_music/youtube_30/youtube_30.csv\")"
      ],
      "metadata": {
        "id": "5ZF31088JhYu"
      },
      "execution_count": null,
      "outputs": []
    },
    {
      "cell_type": "markdown",
      "source": [
        "**recall, precision, f1**\n"
      ],
      "metadata": {
        "id": "EtDQ8d82b8Ee"
      }
    },
    {
      "cell_type": "code",
      "source": [
        "from keras import backend as K\n",
        "\n",
        "def recall_m(y_true, y_pred):\n",
        "    true_positives = K.sum(K.round(K.clip(y_true * y_pred, 0, 1)))\n",
        "    possible_positives = K.sum(K.round(K.clip(y_true, 0, 1)))\n",
        "    recall = true_positives / (possible_positives + K.epsilon())\n",
        "    return recall\n",
        "\n",
        "def precision_m(y_true, y_pred):\n",
        "    true_positives = K.sum(K.round(K.clip(y_true * y_pred, 0, 1)))\n",
        "    predicted_positives = K.sum(K.round(K.clip(y_pred, 0, 1)))\n",
        "    precision = true_positives / (predicted_positives + K.epsilon())\n",
        "    return precision\n",
        "\n",
        "def f1_m(y_true, y_pred):\n",
        "    precision = precision_m(y_true, y_pred)\n",
        "    recall = recall_m(y_true, y_pred)\n",
        "    return 2*((precision*recall)/(precision+recall+K.epsilon()))\n",
        "\n",
        "# compile the model\n",
        "model_eff.compile(optimizer='adam', loss='categorical_crossentropy', metrics=['acc',f1_m,precision_m, recall_m])\n",
        "\n",
        "batch_size=16\n",
        "verbose=1\n",
        "_loss, _acc, _precision, _recall, _f1score = model_eff.evaluate(ds_val, batch_size=batch_size, verbose=verbose)\n",
        "print('loss: {:.3f}, accuracy: {:.3f}, precision: {:.3f}, recall: {:.3f}, f1score: {:.3f}'.format(_loss, _acc, _precision, _recall, _f1score))"
      ],
      "metadata": {
        "colab": {
          "base_uri": "https://localhost:8080/"
        },
        "id": "tC3EaLgAb3RY",
        "outputId": "d6d70c60-2737-4afb-ffbd-bb36ad830624"
      },
      "execution_count": null,
      "outputs": [
        {
          "output_type": "stream",
          "name": "stdout",
          "text": [
            "300/300 [==============================] - 29s 82ms/step - loss: 0.7881 - acc: 0.7150 - f1_m: 0.7045 - precision_m: 0.7998 - recall_m: 0.6342\n",
            "loss: 0.788, accuracy: 0.715, precision: 0.705, recall: 0.800, f1score: 0.634\n"
          ]
        }
      ]
    }
  ],
  "metadata": {
    "colab": {
      "collapsed_sections": [],
      "name": "youtubemusic_efficientnet_30",
      "provenance": [],
      "include_colab_link": true
    },
    "kernelspec": {
      "display_name": "Python 3 (ipykernel)",
      "language": "python",
      "name": "python3"
    },
    "language_info": {
      "codemirror_mode": {
        "name": "ipython",
        "version": 3
      },
      "file_extension": ".py",
      "mimetype": "text/x-python",
      "name": "python",
      "nbconvert_exporter": "python",
      "pygments_lexer": "ipython3",
      "version": "3.9.7"
    },
    "accelerator": "GPU",
    "gpuClass": "standard"
  },
  "nbformat": 4,
  "nbformat_minor": 0
}