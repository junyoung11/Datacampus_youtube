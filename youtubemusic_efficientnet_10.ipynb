{
  "cells": [
    {
      "cell_type": "markdown",
      "metadata": {
        "id": "view-in-github",
        "colab_type": "text"
      },
      "source": [
        "<a href=\"https://colab.research.google.com/github/junyoung11/Datacampus_youtube/blob/main/youtubemusic_efficientnet_10.ipynb\" target=\"_parent\"><img src=\"https://colab.research.google.com/assets/colab-badge.svg\" alt=\"Open In Colab\"/></a>"
      ]
    },
    {
      "cell_type": "markdown",
      "source": [
        "**drive 연동**"
      ],
      "metadata": {
        "id": "RYgyQijlcFET"
      }
    },
    {
      "cell_type": "code",
      "source": [
        "from google.colab import drive\n",
        "drive.mount('/content/drive')"
      ],
      "metadata": {
        "colab": {
          "base_uri": "https://localhost:8080/"
        },
        "id": "pNgJdKs3YVRw",
        "outputId": "09cfbb99-1658-40f2-a725-1eafcb8d5b65"
      },
      "execution_count": null,
      "outputs": [
        {
          "output_type": "stream",
          "name": "stdout",
          "text": [
            "Drive already mounted at /content/drive; to attempt to forcibly remount, call drive.mount(\"/content/drive\", force_remount=True).\n"
          ]
        }
      ]
    },
    {
      "cell_type": "markdown",
      "source": [
        "**압축풀기**"
      ],
      "metadata": {
        "id": "EQQe5F1xcA2j"
      }
    },
    {
      "cell_type": "code",
      "source": [
        "path_to_zip_file = '/content/drive/MyDrive/array.zip'\n",
        "directory_to_extract_to = '/content/array_file'\n",
        "\n",
        "import zipfile\n",
        "with zipfile.ZipFile(path_to_zip_file, 'r') as zip_ref:\n",
        "    zip_ref.extractall(directory_to_extract_to)\n",
        "\n"
      ],
      "metadata": {
        "id": "h9-7MJ8VYrmf",
        "outputId": "1617955a-9ca3-4b09-e0a2-6207fea2858e",
        "colab": {
          "base_uri": "https://localhost:8080/",
          "height": 372
        }
      },
      "execution_count": null,
      "outputs": [
        {
          "output_type": "error",
          "ename": "FileNotFoundError",
          "evalue": "ignored",
          "traceback": [
            "\u001b[0;31m---------------------------------------------------------------------------\u001b[0m",
            "\u001b[0;31mFileNotFoundError\u001b[0m                         Traceback (most recent call last)",
            "\u001b[0;32m<ipython-input-2-1b9a62207954>\u001b[0m in \u001b[0;36m<module>\u001b[0;34m\u001b[0m\n\u001b[1;32m      3\u001b[0m \u001b[0;34m\u001b[0m\u001b[0m\n\u001b[1;32m      4\u001b[0m \u001b[0;32mimport\u001b[0m \u001b[0mzipfile\u001b[0m\u001b[0;34m\u001b[0m\u001b[0;34m\u001b[0m\u001b[0m\n\u001b[0;32m----> 5\u001b[0;31m \u001b[0;32mwith\u001b[0m \u001b[0mzipfile\u001b[0m\u001b[0;34m.\u001b[0m\u001b[0mZipFile\u001b[0m\u001b[0;34m(\u001b[0m\u001b[0mpath_to_zip_file\u001b[0m\u001b[0;34m,\u001b[0m \u001b[0;34m'r'\u001b[0m\u001b[0;34m)\u001b[0m \u001b[0;32mas\u001b[0m \u001b[0mzip_ref\u001b[0m\u001b[0;34m:\u001b[0m\u001b[0;34m\u001b[0m\u001b[0;34m\u001b[0m\u001b[0m\n\u001b[0m\u001b[1;32m      6\u001b[0m     \u001b[0mzip_ref\u001b[0m\u001b[0;34m.\u001b[0m\u001b[0mextractall\u001b[0m\u001b[0;34m(\u001b[0m\u001b[0mdirectory_to_extract_to\u001b[0m\u001b[0;34m)\u001b[0m\u001b[0;34m\u001b[0m\u001b[0;34m\u001b[0m\u001b[0m\n\u001b[1;32m      7\u001b[0m \u001b[0;34m\u001b[0m\u001b[0m\n",
            "\u001b[0;32m/usr/lib/python3.7/zipfile.py\u001b[0m in \u001b[0;36m__init__\u001b[0;34m(self, file, mode, compression, allowZip64, compresslevel)\u001b[0m\n\u001b[1;32m   1238\u001b[0m             \u001b[0;32mwhile\u001b[0m \u001b[0;32mTrue\u001b[0m\u001b[0;34m:\u001b[0m\u001b[0;34m\u001b[0m\u001b[0;34m\u001b[0m\u001b[0m\n\u001b[1;32m   1239\u001b[0m                 \u001b[0;32mtry\u001b[0m\u001b[0;34m:\u001b[0m\u001b[0;34m\u001b[0m\u001b[0;34m\u001b[0m\u001b[0m\n\u001b[0;32m-> 1240\u001b[0;31m                     \u001b[0mself\u001b[0m\u001b[0;34m.\u001b[0m\u001b[0mfp\u001b[0m \u001b[0;34m=\u001b[0m \u001b[0mio\u001b[0m\u001b[0;34m.\u001b[0m\u001b[0mopen\u001b[0m\u001b[0;34m(\u001b[0m\u001b[0mfile\u001b[0m\u001b[0;34m,\u001b[0m \u001b[0mfilemode\u001b[0m\u001b[0;34m)\u001b[0m\u001b[0;34m\u001b[0m\u001b[0;34m\u001b[0m\u001b[0m\n\u001b[0m\u001b[1;32m   1241\u001b[0m                 \u001b[0;32mexcept\u001b[0m \u001b[0mOSError\u001b[0m\u001b[0;34m:\u001b[0m\u001b[0;34m\u001b[0m\u001b[0;34m\u001b[0m\u001b[0m\n\u001b[1;32m   1242\u001b[0m                     \u001b[0;32mif\u001b[0m \u001b[0mfilemode\u001b[0m \u001b[0;32min\u001b[0m \u001b[0mmodeDict\u001b[0m\u001b[0;34m:\u001b[0m\u001b[0;34m\u001b[0m\u001b[0;34m\u001b[0m\u001b[0m\n",
            "\u001b[0;31mFileNotFoundError\u001b[0m: [Errno 2] No such file or directory: '/content/drive/MyDrive/array.zip'"
          ]
        }
      ]
    },
    {
      "cell_type": "markdown",
      "source": [
        "**efficientnet 모델**"
      ],
      "metadata": {
        "id": "7E8HkyAYcMJH"
      }
    },
    {
      "cell_type": "code",
      "source": [
        "import numpy as np\n",
        "import matplotlib.pyplot as plt\n",
        "import pandas as pd\n",
        "import os \n",
        "\n",
        "df= pd.DataFrame()\n",
        "df['file'] = os.listdir('/content/array_file/array') # 현재 위치의 array 폴더 안의 모든 파일 이름 가져오기\n",
        "df['tag'] = df['file'].map(lambda x: x[0]) # 파일 이름의 첫글자가 tag\n",
        "\n",
        "\n",
        "from sklearn.model_selection import train_test_split\n",
        "\n",
        "X_train, X_val, y_train, y_val = train_test_split(\n",
        "                                        df['file'].astype('str'), \n",
        "                                        pd.get_dummies(df['tag']).astype('int32'), \n",
        "                                        test_size=0.2, \n",
        "                                        shuffle=True, \n",
        "                                        stratify=df['tag']\n",
        "                                    )\n",
        "\n",
        "def data_generator(X, y):\n",
        "    def gen():\n",
        "        file_ids = X\n",
        "        labels = y.to_numpy()\n",
        "        #reidx = random.sample(list(range(len(y))), k=len(y))\n",
        "        #song_ids = song_ids[reidx]\n",
        "        #y = y[reidx]\n",
        "        for file_id, label in zip(file_ids, labels):\n",
        "            pth=f\"/content/array_file/array/{file_id}\" \n",
        "            m = np.load(pth).astype('float32')\n",
        "            for i in range(3):\n",
        "              mel = m[:,i*1000:(i+1)*1000]\n",
        "              mel = mel.reshape(40, 1000, 1)\n",
        "              yield mel, label\n",
        "              \n",
        "            '''\n",
        "            if m.shape[1] < 1876: # zero padding\n",
        "                pad_len = 1876 - mel.shape[1]\n",
        "                pad = np.zeros((48, pad_len))\n",
        "                m = np.concatenate([m, pad], axis=1) \n",
        "            yield np.expand_dims(m, axis=2), label\n",
        "            '''\n",
        "    return gen\n",
        "\n",
        "import tensorflow as tf\n",
        "DATA_SHAPE = (40, 1000, 1)\n",
        "ds_train = tf.data.Dataset.from_generator(\n",
        "    data_generator(X_train, y_train), \n",
        "    output_signature=(\n",
        "        tf.TensorSpec(shape=DATA_SHAPE, dtype='float32'),\n",
        "        tf.TensorSpec(shape=(8), dtype='int32')\n",
        "     )\n",
        ")\n",
        "ds_val = tf.data.Dataset.from_generator(\n",
        "    data_generator(X_val, y_val), \n",
        "    output_signature=(\n",
        "        tf.TensorSpec(shape=DATA_SHAPE, dtype='float32'),\n",
        "        tf.TensorSpec(shape=(8), dtype='int32')\n",
        "     )\n",
        ")\n",
        "\n",
        "AUTOTUNE = tf.data.experimental.AUTOTUNE\n",
        "ds_train = (\n",
        "    ds_train\n",
        "    .batch(16)\n",
        "    #.cache()\n",
        "    .prefetch(buffer_size=AUTOTUNE)\n",
        ")\n",
        "\n",
        "ds_val = (\n",
        "    ds_val\n",
        "    .batch(16)\n",
        "    #.cache()\n",
        "    .prefetch(buffer_size=AUTOTUNE)\n",
        ")\n",
        "\n",
        "from keras.models import Sequential\n",
        "from tensorflow.keras.layers import Dense, Dropout\n",
        "\n",
        "\n",
        "efficientnet = tf.keras.applications.efficientnet.EfficientNetB0(\n",
        "    include_top=False,\n",
        "    weights=None,\n",
        "    #classes=8,\n",
        "    pooling='avg',\n",
        "    input_shape=DATA_SHAPE)\n",
        "\n",
        "model_eff = Sequential([\n",
        "    efficientnet,\n",
        "    Dropout(0.5),\n",
        "    Dense(8, activation='softmax', kernel_initializer=tf.keras.initializers.HeNormal())])\n",
        "\n",
        "model_eff.compile(optimizer = 'adam', loss = 'categorical_crossentropy', metrics = ['accuracy'])\n",
        "\n",
        "early = tf.keras.callbacks.EarlyStopping(patience=3, restore_best_weights=True)\n",
        "model_eff.fit(ds_train, validation_data=ds_val, epochs=15, callbacks=[early])\n",
        "\n",
        "model_eff.save_weights('/content/drive/MyDrive/youtube_music')\n",
        "\n",
        "#model = model_eff.load_weights('/content/drive/MyDrive/youtube_music')"
      ],
      "metadata": {
        "colab": {
          "base_uri": "https://localhost:8080/"
        },
        "id": "5z3WVlZhYT8Y",
        "outputId": "4b05cbae-f47e-4733-d324-011820538dba"
      },
      "execution_count": null,
      "outputs": [
        {
          "output_type": "stream",
          "name": "stdout",
          "text": [
            "Epoch 1/15\n",
            "3600/3600 [==============================] - 584s 158ms/step - loss: 1.3855 - accuracy: 0.4992 - val_loss: 1.1034 - val_accuracy: 0.6069\n",
            "Epoch 2/15\n",
            "3600/3600 [==============================] - 561s 156ms/step - loss: 1.0663 - accuracy: 0.6163 - val_loss: 0.9816 - val_accuracy: 0.6523\n",
            "Epoch 3/15\n",
            "3600/3600 [==============================] - 562s 156ms/step - loss: 0.9416 - accuracy: 0.6626 - val_loss: 0.8669 - val_accuracy: 0.6812\n",
            "Epoch 4/15\n",
            "3600/3600 [==============================] - 562s 156ms/step - loss: 0.8541 - accuracy: 0.6911 - val_loss: 0.9211 - val_accuracy: 0.6597\n",
            "Epoch 5/15\n",
            "3600/3600 [==============================] - 560s 155ms/step - loss: 0.7793 - accuracy: 0.7177 - val_loss: 1.0266 - val_accuracy: 0.6258\n",
            "Epoch 6/15\n",
            "3600/3600 [==============================] - 562s 156ms/step - loss: 0.7192 - accuracy: 0.7367 - val_loss: 1.2411 - val_accuracy: 0.5617\n"
          ]
        }
      ]
    },
    {
      "cell_type": "markdown",
      "source": [
        "**데이터프레임 저장**"
      ],
      "metadata": {
        "id": "xqWY1QuSPKw3"
      }
    },
    {
      "cell_type": "code",
      "source": [
        "import pandas as pd\n",
        "df.to_csv(\"/content/drive/MyDrive/youtube_music/youtube_10/youtube_10.csv\")"
      ],
      "metadata": {
        "colab": {
          "base_uri": "https://localhost:8080/",
          "height": 190
        },
        "id": "fAeGz1DNG_PU",
        "outputId": "8f954a1e-b8ac-4397-8a62-5b90b6ecb5ea"
      },
      "execution_count": null,
      "outputs": [
        {
          "output_type": "error",
          "ename": "NameError",
          "evalue": "ignored",
          "traceback": [
            "\u001b[0;31m---------------------------------------------------------------------------\u001b[0m",
            "\u001b[0;31mNameError\u001b[0m                                 Traceback (most recent call last)",
            "\u001b[0;32m<ipython-input-1-7d9b15739611>\u001b[0m in \u001b[0;36m<module>\u001b[0;34m\u001b[0m\n\u001b[1;32m      1\u001b[0m \u001b[0;32mimport\u001b[0m \u001b[0mpandas\u001b[0m \u001b[0;32mas\u001b[0m \u001b[0mpd\u001b[0m\u001b[0;34m\u001b[0m\u001b[0;34m\u001b[0m\u001b[0m\n\u001b[0;32m----> 2\u001b[0;31m \u001b[0mdf\u001b[0m\u001b[0;34m.\u001b[0m\u001b[0mto_csv\u001b[0m\u001b[0;34m(\u001b[0m\u001b[0;34m\"/content/drive/MyDrive/youtube_music/youtube_10/youtube_10.csv\"\u001b[0m\u001b[0;34m)\u001b[0m\u001b[0;34m\u001b[0m\u001b[0;34m\u001b[0m\u001b[0m\n\u001b[0m",
            "\u001b[0;31mNameError\u001b[0m: name 'df' is not defined"
          ]
        }
      ]
    },
    {
      "cell_type": "markdown",
      "source": [
        "**recall, precision, f1**\n"
      ],
      "metadata": {
        "id": "EtDQ8d82b8Ee"
      }
    },
    {
      "cell_type": "code",
      "source": [
        "from keras import backend as K\n",
        "\n",
        "def recall_m(y_true, y_pred):\n",
        "    true_positives = K.sum(K.round(K.clip(y_true * y_pred, 0, 1)))\n",
        "    possible_positives = K.sum(K.round(K.clip(y_true, 0, 1)))\n",
        "    recall = true_positives / (possible_positives + K.epsilon())\n",
        "    return recall\n",
        "\n",
        "def precision_m(y_true, y_pred):\n",
        "    true_positives = K.sum(K.round(K.clip(y_true * y_pred, 0, 1)))\n",
        "    predicted_positives = K.sum(K.round(K.clip(y_pred, 0, 1)))\n",
        "    precision = true_positives / (predicted_positives + K.epsilon())\n",
        "    return precision\n",
        "\n",
        "def f1_m(y_true, y_pred):\n",
        "    precision = precision_m(y_true, y_pred)\n",
        "    recall = recall_m(y_true, y_pred)\n",
        "    return 2*((precision*recall)/(precision+recall+K.epsilon()))\n",
        "\n",
        "# compile the model\n",
        "model_eff.compile(optimizer='adam', loss='categorical_crossentropy', metrics=['acc',f1_m,precision_m, recall_m])\n",
        "\n",
        "batch_size=16\n",
        "verbose=1\n",
        "_loss, _acc, _precision, _recall, _f1score = model_eff.evaluate(ds_val, batch_size=batch_size, verbose=verbose)\n",
        "print('loss: {:.3f}, accuracy: {:.3f}, precision: {:.3f}, recall: {:.3f}, f1score: {:.3f}'.format(_loss, _acc, _precision, _recall, _f1score))"
      ],
      "metadata": {
        "colab": {
          "base_uri": "https://localhost:8080/"
        },
        "id": "tC3EaLgAb3RY",
        "outputId": "a882b171-2a3b-4d71-ebbd-ba486e6abfeb"
      },
      "execution_count": null,
      "outputs": [
        {
          "output_type": "stream",
          "name": "stdout",
          "text": [
            "900/900 [==============================] - 32s 32ms/step - loss: 0.8669 - acc: 0.6812 - f1_m: 0.6504 - precision_m: 0.7994 - recall_m: 0.5609\n",
            "loss: 0.867, accuracy: 0.681, precision: 0.650, recall: 0.799, f1score: 0.561\n"
          ]
        }
      ]
    }
  ],
  "metadata": {
    "colab": {
      "collapsed_sections": [],
      "name": "youtubemusic_efficientnet_10",
      "provenance": [],
      "include_colab_link": true
    },
    "kernelspec": {
      "display_name": "Python 3 (ipykernel)",
      "language": "python",
      "name": "python3"
    },
    "language_info": {
      "codemirror_mode": {
        "name": "ipython",
        "version": 3
      },
      "file_extension": ".py",
      "mimetype": "text/x-python",
      "name": "python",
      "nbconvert_exporter": "python",
      "pygments_lexer": "ipython3",
      "version": "3.9.7"
    },
    "accelerator": "GPU",
    "gpuClass": "standard"
  },
  "nbformat": 4,
  "nbformat_minor": 0
}